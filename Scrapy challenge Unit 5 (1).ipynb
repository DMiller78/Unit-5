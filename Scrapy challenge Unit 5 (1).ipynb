{
 "cells": [
  {
   "cell_type": "code",
   "execution_count": 1,
   "metadata": {},
   "outputs": [
    {
     "name": "stdout",
     "output_type": "stream",
     "text": [
      "Success!\n"
     ]
    }
   ],
   "source": [
    "# Importing in each cell because of the kernel restarts.\n",
    "import scrapy\n",
    "from scrapy.crawler import CrawlerProcess\n",
    "\n",
    "\n",
    "class PFforumSpider(scrapy.Spider):\n",
    "    # Naming the spider is important if you are running more than one spider of\n",
    "    # this class simultaneously.\n",
    "    name = \"PFforum\"\n",
    "    \n",
    "    # URL(s) to start with.\n",
    "    start_urls = [\n",
    "        'https://sfbay.craigslist.org/d/farm-garden/search/gra',\n",
    "    ]\n",
    "            \n",
    "    # Use XPath to parse the response we get.\n",
    "    def parse(self, response):\n",
    "        \n",
    "        # Iterate over every <article> element on the page.\n",
    "        for thread in response.xpath('//table/tbody[//b]'):\n",
    "\n",
    "            # Yield a dictionary with the values we want.\n",
    "            yield {\n",
    "                # This is the code to choose what we want to extract\n",
    "                # You can modify this with other Xpath expressions to extract other information from the site\n",
    "                'thread_title': thread.xpath('tr/td/a/b/text()').extract_first(),\n",
    "                'link': thread.xpath('tr/td/a[b]/@href').extract_first(),\n",
    "                'original_post_date': thread.xpath('tr/td/div/span/time/text()').extract_first(),\n",
    "                'newest_post_date': thread.xpath('tr/td/a/time/text()').extract_first()\n",
    "                }\n",
    "\n",
    "# Tell the script how to run the crawler by passing in settings.\n",
    "process = CrawlerProcess({\n",
    "    'FEED_FORMAT': 'json',         # Store data in JSON format.\n",
    "    'FEED_URI': 'pf_forum_firstpage.json',  # Name our storage file.\n",
    "    'LOG_ENABLED': False           # Turn off logging for now.\n",
    "})\n",
    "\n",
    "# Start the crawler with our spider.\n",
    "process.crawl(PFforumSpider)\n",
    "process.start()\n",
    "print('Success!')"
   ]
  },
  {
   "cell_type": "code",
   "execution_count": 2,
   "metadata": {},
   "outputs": [
    {
     "name": "stdout",
     "output_type": "stream",
     "text": [
      "(100, 5)\n",
      "                                          first_post  \\\n",
      "0  [I have a player in an upcoming campaign I am ...   \n",
      "1  [Hey there folks, I have a question for the co...   \n",
      "2  [The spell says you can bring \"passengers\" alo...   \n",
      "3  [So I saw a thread about what was the most cli...   \n",
      "4  [So as it happen you can heal from 50% of fire...   \n",
      "\n",
      "               first_post_date  \\\n",
      "0  Sat, May 18, 2019, 11:17 am   \n",
      "1       Oct 23, 2009, 02:38 pm   \n",
      "2  Mon, May 20, 2019, 12:41 pm   \n",
      "3  Wed, May 22, 2019, 06:15 pm   \n",
      "4  Tue, May 21, 2019, 10:38 am   \n",
      "\n",
      "                                                link     thread_length  \\\n",
      "0  [https://paizo.com/threads/rzs42kfa?Respecing-...                []   \n",
      "1  [https://paizo.com/threads/rzs2k2y8?Best-Open-...  [1 to 50 of 274]   \n",
      "2  [https://paizo.com/threads/rzs42ki0?Plane-shif...                []   \n",
      "3  [https://paizo.com/threads/rzs42kli?What-s-the...                []   \n",
      "4  [https://paizo.com/threads/rzs42kjf?Is-phoenix...                []   \n",
      "\n",
      "                                               title  \n",
      "0  [Respec'ing a character before the campaign ev...  \n",
      "1                                [Best Open Content]  \n",
      "2                             [Plane shift question]  \n",
      "3  [What’s the least Cliche / weirdest party you ...  \n",
      "4              [Is phoenix sorcerer a healing meme?]  \n"
     ]
    }
   ],
   "source": [
    "import pandas as pd\n",
    "\n",
    "firstpage = pd.read_json('pf_forum_scrape.json')\n",
    "print(firstpage.shape)\n",
    "print(firstpage.head())"
   ]
  },
  {
   "cell_type": "code",
   "execution_count": null,
   "metadata": {},
   "outputs": [],
   "source": []
  }
 ],
 "metadata": {
  "kernelspec": {
   "display_name": "Python 3",
   "language": "python",
   "name": "python3"
  },
  "language_info": {
   "codemirror_mode": {
    "name": "ipython",
    "version": 3
   },
   "file_extension": ".py",
   "mimetype": "text/x-python",
   "name": "python",
   "nbconvert_exporter": "python",
   "pygments_lexer": "ipython3",
   "version": "3.7.1"
  }
 },
 "nbformat": 4,
 "nbformat_minor": 2
}
