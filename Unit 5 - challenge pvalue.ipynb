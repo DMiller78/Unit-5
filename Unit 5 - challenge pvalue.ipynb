{
 "cells": [
  {
   "cell_type": "markdown",
   "metadata": {},
   "source": [
    "In this dataset, the same participants answered questions in 2012 and again 2014.\n",
    "\n",
    "1. Did people become less trusting from 2012 to 2014? Compute results for each country in the sample.\n",
    "\n",
    "2. Did people become happier from 2012 to 2014? Compute results for each country in the sample.\n",
    "\n",
    "3. Who reported watching more TV in 2012, men or women?\n",
    "\n",
    "4. Who was more likely to believe people were fair in 2012, people living with a partner or people living alone?\n",
    "\n",
    "5. Pick three or four of the countries in the sample and compare how often people met socially in 2014. Are there differences, and if so, which countries stand out?\n",
    "\n",
    "6. Pick three or four of the countries in the sample and compare how often people took part in social activities, relative to others their age, in 2014. Are there differences, and if so, which countries stand out?\n"
   ]
  },
  {
   "cell_type": "code",
   "execution_count": 1,
   "metadata": {},
   "outputs": [],
   "source": [
    "import pandas as pd\n",
    "import numpy as np\n",
    "import matplotlib.pyplot as plt\n",
    "import scipy.stats as stats\n",
    "from statsmodels.stats.multicomp import pairwise_tukeyhsd\n",
    "%matplotlib inline"
   ]
  },
  {
   "cell_type": "code",
   "execution_count": 2,
   "metadata": {},
   "outputs": [
    {
     "data": {
      "text/html": [
       "<div>\n",
       "<style scoped>\n",
       "    .dataframe tbody tr th:only-of-type {\n",
       "        vertical-align: middle;\n",
       "    }\n",
       "\n",
       "    .dataframe tbody tr th {\n",
       "        vertical-align: top;\n",
       "    }\n",
       "\n",
       "    .dataframe thead th {\n",
       "        text-align: right;\n",
       "    }\n",
       "</style>\n",
       "<table border=\"1\" class=\"dataframe\">\n",
       "  <thead>\n",
       "    <tr style=\"text-align: right;\">\n",
       "      <th></th>\n",
       "      <th>cntry</th>\n",
       "      <th>idno</th>\n",
       "      <th>year</th>\n",
       "      <th>tvtot</th>\n",
       "      <th>ppltrst</th>\n",
       "      <th>pplfair</th>\n",
       "      <th>pplhlp</th>\n",
       "      <th>happy</th>\n",
       "      <th>sclmeet</th>\n",
       "      <th>sclact</th>\n",
       "      <th>gndr</th>\n",
       "      <th>agea</th>\n",
       "      <th>partner</th>\n",
       "    </tr>\n",
       "  </thead>\n",
       "  <tbody>\n",
       "    <tr>\n",
       "      <th>0</th>\n",
       "      <td>CH</td>\n",
       "      <td>5.0</td>\n",
       "      <td>6</td>\n",
       "      <td>3.0</td>\n",
       "      <td>3.0</td>\n",
       "      <td>10.0</td>\n",
       "      <td>5.0</td>\n",
       "      <td>8.0</td>\n",
       "      <td>5.0</td>\n",
       "      <td>4.0</td>\n",
       "      <td>2.0</td>\n",
       "      <td>60.0</td>\n",
       "      <td>1.0</td>\n",
       "    </tr>\n",
       "    <tr>\n",
       "      <th>1</th>\n",
       "      <td>CH</td>\n",
       "      <td>25.0</td>\n",
       "      <td>6</td>\n",
       "      <td>6.0</td>\n",
       "      <td>5.0</td>\n",
       "      <td>7.0</td>\n",
       "      <td>5.0</td>\n",
       "      <td>9.0</td>\n",
       "      <td>3.0</td>\n",
       "      <td>2.0</td>\n",
       "      <td>2.0</td>\n",
       "      <td>59.0</td>\n",
       "      <td>1.0</td>\n",
       "    </tr>\n",
       "    <tr>\n",
       "      <th>2</th>\n",
       "      <td>CH</td>\n",
       "      <td>26.0</td>\n",
       "      <td>6</td>\n",
       "      <td>1.0</td>\n",
       "      <td>8.0</td>\n",
       "      <td>8.0</td>\n",
       "      <td>8.0</td>\n",
       "      <td>7.0</td>\n",
       "      <td>6.0</td>\n",
       "      <td>3.0</td>\n",
       "      <td>1.0</td>\n",
       "      <td>24.0</td>\n",
       "      <td>2.0</td>\n",
       "    </tr>\n",
       "    <tr>\n",
       "      <th>3</th>\n",
       "      <td>CH</td>\n",
       "      <td>28.0</td>\n",
       "      <td>6</td>\n",
       "      <td>4.0</td>\n",
       "      <td>6.0</td>\n",
       "      <td>6.0</td>\n",
       "      <td>7.0</td>\n",
       "      <td>10.0</td>\n",
       "      <td>6.0</td>\n",
       "      <td>2.0</td>\n",
       "      <td>2.0</td>\n",
       "      <td>64.0</td>\n",
       "      <td>1.0</td>\n",
       "    </tr>\n",
       "    <tr>\n",
       "      <th>4</th>\n",
       "      <td>CH</td>\n",
       "      <td>29.0</td>\n",
       "      <td>6</td>\n",
       "      <td>5.0</td>\n",
       "      <td>6.0</td>\n",
       "      <td>7.0</td>\n",
       "      <td>5.0</td>\n",
       "      <td>8.0</td>\n",
       "      <td>7.0</td>\n",
       "      <td>2.0</td>\n",
       "      <td>2.0</td>\n",
       "      <td>55.0</td>\n",
       "      <td>1.0</td>\n",
       "    </tr>\n",
       "  </tbody>\n",
       "</table>\n",
       "</div>"
      ],
      "text/plain": [
       "  cntry  idno  year  tvtot  ppltrst  pplfair  pplhlp  happy  sclmeet  sclact  \\\n",
       "0    CH   5.0     6    3.0      3.0     10.0     5.0    8.0      5.0     4.0   \n",
       "1    CH  25.0     6    6.0      5.0      7.0     5.0    9.0      3.0     2.0   \n",
       "2    CH  26.0     6    1.0      8.0      8.0     8.0    7.0      6.0     3.0   \n",
       "3    CH  28.0     6    4.0      6.0      6.0     7.0   10.0      6.0     2.0   \n",
       "4    CH  29.0     6    5.0      6.0      7.0     5.0    8.0      7.0     2.0   \n",
       "\n",
       "   gndr  agea  partner  \n",
       "0   2.0  60.0      1.0  \n",
       "1   2.0  59.0      1.0  \n",
       "2   1.0  24.0      2.0  \n",
       "3   2.0  64.0      1.0  \n",
       "4   2.0  55.0      1.0  "
      ]
     },
     "execution_count": 2,
     "metadata": {},
     "output_type": "execute_result"
    }
   ],
   "source": [
    "\n",
    "df = pd.read_csv(\"/Users/mille/Desktop/Unit 5 Thinkful/ESSdata_Thinkful.csv\")\n",
    "\n",
    "df.head()"
   ]
  },
  {
   "cell_type": "markdown",
   "metadata": {},
   "source": [
    "### 1. Did people become less trusting from 2012 to 2014? Compute results for each country in the sample."
   ]
  },
  {
   "cell_type": "markdown",
   "metadata": {},
   "source": [
    "tolist \n",
    "returns a nested arrary \n",
    "https://docs.scipy.org/doc/numpy/reference/generated/numpy.ndarray.tolist.html"
   ]
  },
  {
   "cell_type": "code",
   "execution_count": 3,
   "metadata": {},
   "outputs": [],
   "source": [
    "countries = df.cntry.unique().tolist()\n"
   ]
  },
  {
   "cell_type": "markdown",
   "metadata": {},
   "source": [
    "Setting up a for loop countries over ppltrst (Most people can be trusted or you can't be too careful). \n",
    "axs[0] to setup the histogram for 2012 per country \n",
    "axs[1] to setup the histogram for 2014 per country "
   ]
  },
  {
   "cell_type": "code",
   "execution_count": 34,
   "metadata": {},
   "outputs": [
    {
     "data": {
      "image/png": "[encoded data removed]",
      "text/plain": [
       "<Figure size 432x216 with 2 Axes>"
      ]
     },
     "metadata": {},
     "output_type": "display_data"
    },
    {
     "data": {
      "image/png": "[encoded data removed]",
      "text/plain": [
       "<Figure size 432x216 with 2 Axes>"
      ]
     },
     "metadata": {},
     "output_type": "display_data"
    },
    {
     "data": {
      "image/png": "[encoded data removed]",
      "text/plain": [
       "<Figure size 432x216 with 2 Axes>"
      ]
     },
     "metadata": {},
     "output_type": "display_data"
    },
    {
     "data": {
      "image/png": "[encoded data removed]",
      "text/plain": [
       "<Figure size 432x216 with 2 Axes>"
      ]
     },
     "metadata": {},
     "output_type": "display_data"
    },
    {
     "data": {
      "image/png": "[encoded data removed]",
      "text/plain": [
       "<Figure size 432x216 with 2 Axes>"
      ]
     },
     "metadata": {},
     "output_type": "display_data"
    },
    {
     "data": {
      "image/png": "[encoded data removed]",
      "text/plain": [
       "<Figure size 432x216 with 2 Axes>"
      ]
     },
     "metadata": {},
     "output_type": "display_data"
    }
   ],
   "source": [
    "for country in countries:\n",
    "    \n",
    "    fig, axs = plt.subplots(1, 2, figsize=(6, 3))\n",
    "    \n",
    "    axs[0].hist(df['ppltrst'][(df['cntry'] == country) & (df['year']==6)].dropna())\n",
    "    axs[1].hist(df['ppltrst'][(df['cntry'] == country) & (df['year']==7)].dropna())\n",
    "\n",
    "    fig.text(0.5, 0, country)\n",
    "    axs[0].set_title('2012')\n",
    "    axs[1].set_title('2014')\n",
    "    \n",
    "\n",
    "    plt.tight_layout()\n",
    "    plt.show()"
   ]
  },
  {
   "cell_type": "code",
   "execution_count": 5,
   "metadata": {},
   "outputs": [
    {
     "name": "stdout",
     "output_type": "stream",
     "text": [
      "\n",
      " CH\n",
      "2012 mean: 5.68\n",
      "2014 mean: 5.75\n",
      "Ttest_relResult(statistic=-0.6586851756725737, pvalue=0.5102943511301135)\n",
      "\n",
      " CZ\n",
      "2012 mean: 4.36\n",
      "2014 mean: 4.42\n",
      "Ttest_relResult(statistic=-0.5001638336887216, pvalue=0.617129268240474)\n",
      "\n",
      " DE\n",
      "2012 mean: 5.21\n",
      "2014 mean: 5.36\n",
      "Ttest_relResult(statistic=-0.18399501804849683, pvalue=0.8568563797095805)\n",
      "\n",
      " ES\n",
      "2012 mean: 5.11\n",
      "2014 mean: 4.90\n",
      "Ttest_relResult(statistic=2.4561906976601646, pvalue=0.014181580725320272)\n",
      "\n",
      " NO\n",
      "2012 mean: 6.65\n",
      "2014 mean: 6.60\n",
      "Ttest_relResult(statistic=0.5073077081124404, pvalue=0.61209257015177)\n",
      "\n",
      " SE\n",
      "2012 mean: 6.06\n",
      "2014 mean: 6.26\n",
      "Ttest_relResult(statistic=-2.0671082026033982, pvalue=0.03900781670958545)\n"
     ]
    }
   ],
   "source": [
    "for country in countries:\n",
    "    print('\\n', country)\n",
    "    print('2012 mean: {0:.2f}'.format(df['ppltrst'][(df['cntry'] == country) & (df['year']==6)].mean()))\n",
    "    print('2014 mean: {0:.2f}'.format(df['ppltrst'][(df['cntry'] == country) & (df['year']==7)].mean()))  \n",
    "    print(stats.ttest_rel(df['ppltrst'][(df['cntry'] == country) & (df['year']==6)], \n",
    "                          df['ppltrst'][(df['cntry'] == country) & (df['year']==7)],\n",
    "                          nan_policy='omit'\n",
    "                         ))"
   ]
  },
  {
   "cell_type": "markdown",
   "metadata": {},
   "source": [
    "**It is important to note that the y-axis scale is not the same on all histograms**. \n",
    "ppltrst (Most people can be trusted or you can't be too careful)\n",
    "\n",
    "CH: Switzerland\n",
    "2012 and 2014 follow a similar shape and pattern of the histogram. Indicating that the between 2012 and 2014 ppltrst remained the same. \n",
    "2012 mean: 5.68\n",
    "2014 mean: 5.75\n",
    "Ttest_relResult(statistic=-0.6586851756725737, **pvalue=0.5102943511301135**) \n",
    "The p-value indicates no significant differences in the means. \n",
    "\n",
    "CZ: Czech Republic\n",
    "2012 and 2014 - despite the 2012 appearing to look like greater values. The 2014 increased by 40 the overall pattern of the histogram remained the same. \n",
    "2012 mean: 4.36\n",
    "2014 mean: 4.42\n",
    "Ttest_relResult(statistic=-0.5001638336887216, **pvalue=0.617129268240474**)\n",
    "The p-value indicates no significant difference in the means. \n",
    "\n",
    "DE: Germany\n",
    "2012 and 2014 - These plots are the lowest of all the plots shown. Representing more of a binomial distribution then a normal distribution. \n",
    "2012 mean: 5.21\n",
    "2014 mean: 5.36\n",
    "Ttest_relResult(statistic=-0.18399501804849683, **pvalue=0.8568563797095805**)\n",
    "The p-value indicates no significant difference in the means. \n",
    "\n",
    "ES: Spain \n",
    "2012 and 2014 - The histograms are strikely similary. \n",
    "2012 mean: 5.11\n",
    "2014 mean: 4.90\n",
    "Ttest_relResult(statistic=2.4561906976601646, **pvalue=0.014181580725320272**)\n",
    "The p-value showed a significant difference in the means. Suggesting that there was a meaningful difference in how people in Spain viewed ppltrst (Most people can be trusted or you can't be too careful) between 2012 and 2014. \n",
    "\n",
    "NO: Norway\n",
    "2012 and 2014 - The histograms are strikely similary.\n",
    "2012 mean: 6.65\n",
    "2014 mean: 6.60\n",
    "Ttest_relResult(statistic=0.5073077081124404, **pvalue=0.61209257015177**)\n",
    "The p-value indicates no significant difference in the means.\n",
    "\n",
    "SE: Sweden\n",
    "2012 and 2014 - Both years are very similar. There is a slight but noticeable increase on the right side of 2014 histogram. \n",
    "2012 mean: 6.06\n",
    "2014 mean: 6.26\n",
    "Ttest_relResult(statistic=-2.0671082026033982, **pvalue=0.03900781670958545**)\n",
    "The p-value showed a significant difference in the means. Suggesting that there was a meaningful difference in how peple in Sweden viewed ppltrst (Most people can be trusted or you can't be too careful) between 2012 and 2014. \n",
    "\n",
    "\n",
    "Of the countries plotted above and p-values calulated, both Spain and Sweden which showed to have significant p-values also had the largest sample sizes. It appears that the countries are not weighted the same, nor was oversampling/undersampling addressed in this analysis. "
   ]
  },
  {
   "cell_type": "code",
   "execution_count": 45,
   "metadata": {},
   "outputs": [
    {
     "name": "stdout",
     "output_type": "stream",
     "text": [
      "DE non-parametric\n",
      "2012 median: 5.00\n",
      "2014 median: 5.50\n",
      "WilcoxonResult(statistic=130719.5, pvalue=0.028545290985536906)\n"
     ]
    }
   ],
   "source": [
    "print('DE non-parametric')\n",
    "print('2012 median: {0:.2f}'.format(df['ppltrst'][(df['cntry'] == 'DE') & (df['year']==6)].median()))\n",
    "print('2014 median: {0:.2f}'.format(df['ppltrst'][(df['cntry'] == 'DE') & (df['year']==7)].median()))  \n",
    "print(stats.wilcoxon(df['ppltrst'][(df['cntry'] == country) & (df['year']==6)], \n",
    "                     df['ppltrst'][(df['cntry'] == country) & (df['year']==7)],\n",
    "                     zero_method='wilcox', correction=False))\n"
   ]
  },
  {
   "cell_type": "markdown",
   "metadata": {},
   "source": [
    "Within a hypothesis of 95% confidence interval this pvalue above we would reject the null hypothesis and accept the alternative. However, if we were testing to a 98 or 99% confidence interval or to 0.02 or 0.01 in our pvalue above we could not reject the null hypothesis. \n",
    "\n",
    "Also the DE (Germany) had very low sample values shown in histogram. I used DE since it had binomial distribution and I was intersted. \n",
    "\n",
    "This shows that the null hypothesis that the median is negative can be rejected at a confidence level of 5% in favor of the alternative that the median is greater than zero. The p-value based on the approximation is within the range of 0.019 and 0.054 given. https://docs.scipy.org/doc/scipy/reference/generated/scipy.stats.wilcoxon.html#r996422d5c98f-2\n",
    "\n",
    "p-values: The p-value is a popular but controversial statistic for describing the significance of a hypothesis given the observed data. Technically, it is the probability of observing a result as “rejectable” (according to H0) as the observed statistic that actually occurred but from a new sample. So a p-value of 0.02 means that if H0 is true, we would expect to see results more reflective of that hypothesis 98% of the time in repeated experiments. Note that if the p-value is less than the set α level of significance for the test, the null hypothesis should be rejected (and otherwise should not be rejected).http://zoe.bme.gatech.edu/~bv20/isye6404/Bank/npmarginal.pdf\n",
    "\n"
   ]
  },
  {
   "cell_type": "markdown",
   "metadata": {},
   "source": [
    "## Question 2: Did people become happier from 2012 to 2014? Compute results for each country in the sample."
   ]
  },
  {
   "cell_type": "code",
   "execution_count": 7,
   "metadata": {},
   "outputs": [
    {
     "data": {
      "image/png": "[encoded data removed]",
      "text/plain": [
       "<Figure size 432x216 with 2 Axes>"
      ]
     },
     "metadata": {},
     "output_type": "display_data"
    },
    {
     "data": {
      "image/png": "[encoded data removed]",
      "text/plain": [
       "<Figure size 432x216 with 2 Axes>"
      ]
     },
     "metadata": {},
     "output_type": "display_data"
    },
    {
     "data": {
      "image/png": "[encoded data removed]",
      "text/plain": [
       "<Figure size 432x216 with 2 Axes>"
      ]
     },
     "metadata": {},
     "output_type": "display_data"
    },
    {
     "data": {
      "image/png": "[encoded data removed]",
      "text/plain": [
       "<Figure size 432x216 with 2 Axes>"
      ]
     },
     "metadata": {},
     "output_type": "display_data"
    },
    {
     "data": {
      "image/png": "[encoded data removed]",
      "text/plain": [
       "<Figure size 432x216 with 2 Axes>"
      ]
     },
     "metadata": {},
     "output_type": "display_data"
    },
    {
     "data": {
      "image/png": "[encoded data removed]",
      "text/plain": [
       "<Figure size 432x216 with 2 Axes>"
      ]
     },
     "metadata": {},
     "output_type": "display_data"
    }
   ],
   "source": [
    "for country in countries:\n",
    "    \n",
    "    fig, axs = plt.subplots(1, 2, figsize=(6, 3))\n",
    "\n",
    "    axs[0].hist(df['happy'][(df['cntry'] == country) & (df['year']==6)].dropna())\n",
    "    axs[1].hist(df['happy'][(df['cntry'] == country) & (df['year']==7)].dropna())\n",
    "\n",
    "    fig.text(0.5, 0, country)\n",
    "    axs[0].set_title('2012')\n",
    "    axs[1].set_title('2014')\n",
    "    \n",
    "    plt.tight_layout()\n",
    "    plt.show()"
   ]
  },
  {
   "cell_type": "code",
   "execution_count": 10,
   "metadata": {},
   "outputs": [],
   "source": [
    "countrylist = df.cntry.unique()\n",
    "trust_year = {}\n",
    "\n",
    "df_12 = df.loc[df.year==6,:]\n",
    "df_14 = df.loc[df.year==7,:]\n",
    "\n",
    "for country in countrylist:\n",
    "    trust_year[country] = stats.ttest_ind(df_12.loc[df_12.cntry==country, 'ppltrst'],\n",
    "                                                  df_14.loc[df_14.cntry==country, 'ppltrst'],\n",
    "                                                  axis=None, equal_var=True, nan_policy='omit')"
   ]
  },
  {
   "cell_type": "code",
   "execution_count": 11,
   "metadata": {},
   "outputs": [
    {
     "name": "stdout",
     "output_type": "stream",
     "text": [
      "{'CH': Ttest_indResult(statistic=-0.6782716584661505, pvalue=0.49770110247151234), 'CZ': Ttest_indResult(statistic=-0.47654431369598554, pvalue=0.6337663626855166), 'DE': Ttest_indResult(statistic=-0.18084358577434545, pvalue=0.8578926631223287), 'ES': Ttest_indResult(statistic=2.4942765167160026, pvalue=0.012687599930346013), 'NO': Ttest_indResult(statistic=0.5437669865283744, pvalue=0.586684963598745), 'SE': Ttest_indResult(statistic=-2.089164843127998, pvalue=0.036832086995183345)}\n"
     ]
    }
   ],
   "source": [
    "print(trust_year)\n"
   ]
  },
  {
   "cell_type": "markdown",
   "metadata": {},
   "source": [
    "**Did people become more trust worthy?**\n",
    "\n",
    "CH: Switzerland\n",
    "2012 and 2014 - Histogram for both years showed a very similar pattern, only slight increase in 2014. \n",
    "Ttest_indResult(statistic=-0.6782716584661505, **pvalue=0.49770110247151234**)\n",
    "The p-value is not signficant suggesting no meaningful difference in the means. \n",
    "\n",
    "CZ: Czech Republic\n",
    "2012 and 2014 - Histogram for both years showed a very similar pattern, only slight increase in 2014.\n",
    "Ttest_indResult(statistic=-0.47654431369598554, **pvalue=0.6337663626855166**)\n",
    "The p-value is not signficant suggesting no meaningful difference in the means. \n",
    "\n",
    "DE: Germany\n",
    "2012 and 2014 - Histogram for both years showed a very similar pattern, only slight increase in 2014. However, the value counts are very low. \n",
    "Ttest_indResult(statistic=-0.18084358577434545, **pvalue=0.8578926631223287**)\n",
    "The p-value is not signficant suggesting no meaningful difference in the means. \n",
    "\n",
    "ES: Spain \n",
    "2012 and 2014 -  Histogram for both years showed a very similar pattern, only slight increase in 2014.\n",
    "Ttest_indResult(statistic=2.4942765167160026, **pvalue=0.012687599930346013**)\n",
    "The p-value is signficant suggesting there is a meaningful difference in the means. It should be noted that the sample for ES is much greater then that of the other countries. \n",
    "\n",
    "NO: Norway\n",
    "2012 and 2014 - Histogram for both years showed a very similar pattern, only slight increase in 2014.\n",
    "Ttest_indResult(statistic=0.5437669865283744, **pvalue=0.586684963598745**)\n",
    "The p-value is not signficant suggesting no meaningful difference in the means. \n",
    "\n",
    "SE: Sweden\n",
    "2012 and 2014 - Seems the most different of all the histogram plots. It is missing bins that were present in 2012 and absence in 2014. \n",
    "Ttest_indResult(statistic=-2.089164843127998, **pvalue=0.036832086995183345**)\n",
    "The p-value is signficant suggesting there is a meaningful difference in the means. It should be noted that the sample for SE is much greater then that of the other countries. "
   ]
  },
  {
   "cell_type": "code",
   "execution_count": 12,
   "metadata": {},
   "outputs": [],
   "source": [
    "happier = {}\n",
    "for country in countrylist:\n",
    "    happier[country] = stats.ttest_ind(df_12.loc[df_12.cntry==country, 'happy'],\n",
    "                                                  df_14.loc[df_14.cntry==country, 'happy'],\n",
    "                                                  axis=None, equal_var=True, nan_policy='omit')"
   ]
  },
  {
   "cell_type": "code",
   "execution_count": 13,
   "metadata": {},
   "outputs": [
    {
     "name": "stdout",
     "output_type": "stream",
     "text": [
      "{'CH': Ttest_indResult(statistic=-0.3883916732706544, pvalue=0.6977798552552132), 'CZ': Ttest_indResult(statistic=-1.3033790688858846, pvalue=0.19267687243588685), 'DE': Ttest_indResult(statistic=-0.7648529270389165, pvalue=0.451246041120838), 'ES': Ttest_indResult(statistic=1.6739845099484867, pvalue=0.09426276206942426), 'NO': Ttest_indResult(statistic=4.26539164981969, pvalue=2.1241259786819524e-05), 'SE': Ttest_indResult(statistic=-0.5748685401292095, pvalue=0.5654516534859646)}\n"
     ]
    }
   ],
   "source": [
    "print(happier)\n"
   ]
  },
  {
   "cell_type": "markdown",
   "metadata": {},
   "source": [
    "**Did people become happier?**\n",
    "\n",
    "CH: Switzerland \n",
    "Ttest_indResult(statistic=-0.3883916732706544, **pvalue=0.6977798552552132**)\n",
    "The p-value is not signficant. \n",
    "\n",
    "CZ: Czech Republic\n",
    "Ttest_indResult(statistic=-1.3033790688858846, **pvalue=0.19267687243588685**)\n",
    "The p-value is not significant. \n",
    "\n",
    "DE: Germany \n",
    "Ttest_indResult(statistic=-0.7648529270389165, **pvalue=0.451246041120838**)\n",
    "The p-value is not significant. \n",
    "\n",
    "ES: Spain \n",
    "Ttest_indResult(statistic=1.6739845099484867, **pvalue=0.09426276206942426**)\n",
    "The p-value is not significant. Only is we are using a 0.1 or 90% confidence interval. That is generally pretty weak. \n",
    "\n",
    "NO: Norway\n",
    "Ttest_indResult(statistic=4.26539164981969, **pvalue=2.1241259786819524e-05**)\n",
    "The p-value is significant which is less then 99% confidence interval or 0.001. \n",
    "\n",
    "SE: Ttest_indResult(statistic=-0.5748685401292095, **pvalue=0.5654516534859646**)\n",
    "The p-value is not significant."
   ]
  },
  {
   "cell_type": "code",
   "execution_count": 14,
   "metadata": {},
   "outputs": [
    {
     "name": "stderr",
     "output_type": "stream",
     "text": [
      "C:\\Users\\mille\\Conda3\\lib\\site-packages\\ipykernel_launcher.py:6: SettingWithCopyWarning: \n",
      "A value is trying to be set on a copy of a slice from a DataFrame.\n",
      "Try using .loc[row_indexer,col_indexer] = value instead\n",
      "\n",
      "See the caveats in the documentation: http://pandas.pydata.org/pandas-docs/stable/indexing.html#indexing-view-versus-copy\n",
      "  \n"
     ]
    },
    {
     "name": "stdout",
     "output_type": "stream",
     "text": [
      "Result for CH is KruskalResult(statistic=0.11199672775584622, pvalue=0.7378822411273755)\n",
      "Result for CZ is KruskalResult(statistic=0.7741339435361708, pvalue=0.3789412142073376)\n",
      "Result for DE is KruskalResult(statistic=0.39056749122656015, pvalue=0.532001255058662)\n",
      "Result for ES is KruskalResult(statistic=4.0786022231195425, pvalue=0.043429571364942514)\n",
      "Result for NO is KruskalResult(statistic=20.63472268007812, pvalue=5.557890653893063e-06)\n",
      "Result for SE is KruskalResult(statistic=0.09458914374973465, pvalue=0.7584221220941747)\n"
     ]
    }
   ],
   "source": [
    "for country in countrylist:\n",
    "    temp = df.loc[df.cntry==country, :]\n",
    "    temp['rank'] = stats.rankdata(temp.loc[:, 'happy'])\n",
    "    print('Result for {} is {}'.format(country, stats.kruskal(temp.loc[temp.year==6, 'rank'],\n",
    "                                                       temp.loc[temp.year==7, 'rank'])))"
   ]
  },
  {
   "cell_type": "markdown",
   "metadata": {},
   "source": [
    "Using the non-parameteric approach only Spain ES showed a pvalue lower then 0.05. \n",
    "\n",
    "The Kruskal-Wallis H-test tests the null hypothesis that the population median of all of the groups are equal. It is a non-parametric version of ANOVA. The test works on 2 or more independent samples, which may have different sizes. Note that rejecting the null hypothesis does not indicate which of the groups differs. Post-hoc comparisons between groups are required to determine which groups are different. https://docs.scipy.org/doc/scipy/reference/generated/scipy.stats.kruskal.html"
   ]
  },
  {
   "cell_type": "markdown",
   "metadata": {},
   "source": [
    "## Question 3: Who reported watching more TV in 2012, men or women?"
   ]
  },
  {
   "cell_type": "code",
   "execution_count": 15,
   "metadata": {},
   "outputs": [
    {
     "data": {
      "text/html": [
       "<div>\n",
       "<style scoped>\n",
       "    .dataframe tbody tr th:only-of-type {\n",
       "        vertical-align: middle;\n",
       "    }\n",
       "\n",
       "    .dataframe tbody tr th {\n",
       "        vertical-align: top;\n",
       "    }\n",
       "\n",
       "    .dataframe thead th {\n",
       "        text-align: right;\n",
       "    }\n",
       "</style>\n",
       "<table border=\"1\" class=\"dataframe\">\n",
       "  <thead>\n",
       "    <tr style=\"text-align: right;\">\n",
       "      <th></th>\n",
       "      <th>cntry</th>\n",
       "      <th>idno</th>\n",
       "      <th>year</th>\n",
       "      <th>tvtot</th>\n",
       "      <th>ppltrst</th>\n",
       "      <th>pplfair</th>\n",
       "      <th>pplhlp</th>\n",
       "      <th>happy</th>\n",
       "      <th>sclmeet</th>\n",
       "      <th>sclact</th>\n",
       "      <th>gndr</th>\n",
       "      <th>agea</th>\n",
       "      <th>partner</th>\n",
       "    </tr>\n",
       "  </thead>\n",
       "  <tbody>\n",
       "    <tr>\n",
       "      <th>0</th>\n",
       "      <td>CH</td>\n",
       "      <td>5.0</td>\n",
       "      <td>6</td>\n",
       "      <td>3.0</td>\n",
       "      <td>3.0</td>\n",
       "      <td>10.0</td>\n",
       "      <td>5.0</td>\n",
       "      <td>8.0</td>\n",
       "      <td>5.0</td>\n",
       "      <td>4.0</td>\n",
       "      <td>2.0</td>\n",
       "      <td>60.0</td>\n",
       "      <td>1.0</td>\n",
       "    </tr>\n",
       "    <tr>\n",
       "      <th>1</th>\n",
       "      <td>CH</td>\n",
       "      <td>25.0</td>\n",
       "      <td>6</td>\n",
       "      <td>6.0</td>\n",
       "      <td>5.0</td>\n",
       "      <td>7.0</td>\n",
       "      <td>5.0</td>\n",
       "      <td>9.0</td>\n",
       "      <td>3.0</td>\n",
       "      <td>2.0</td>\n",
       "      <td>2.0</td>\n",
       "      <td>59.0</td>\n",
       "      <td>1.0</td>\n",
       "    </tr>\n",
       "    <tr>\n",
       "      <th>2</th>\n",
       "      <td>CH</td>\n",
       "      <td>26.0</td>\n",
       "      <td>6</td>\n",
       "      <td>1.0</td>\n",
       "      <td>8.0</td>\n",
       "      <td>8.0</td>\n",
       "      <td>8.0</td>\n",
       "      <td>7.0</td>\n",
       "      <td>6.0</td>\n",
       "      <td>3.0</td>\n",
       "      <td>1.0</td>\n",
       "      <td>24.0</td>\n",
       "      <td>2.0</td>\n",
       "    </tr>\n",
       "    <tr>\n",
       "      <th>3</th>\n",
       "      <td>CH</td>\n",
       "      <td>28.0</td>\n",
       "      <td>6</td>\n",
       "      <td>4.0</td>\n",
       "      <td>6.0</td>\n",
       "      <td>6.0</td>\n",
       "      <td>7.0</td>\n",
       "      <td>10.0</td>\n",
       "      <td>6.0</td>\n",
       "      <td>2.0</td>\n",
       "      <td>2.0</td>\n",
       "      <td>64.0</td>\n",
       "      <td>1.0</td>\n",
       "    </tr>\n",
       "    <tr>\n",
       "      <th>4</th>\n",
       "      <td>CH</td>\n",
       "      <td>29.0</td>\n",
       "      <td>6</td>\n",
       "      <td>5.0</td>\n",
       "      <td>6.0</td>\n",
       "      <td>7.0</td>\n",
       "      <td>5.0</td>\n",
       "      <td>8.0</td>\n",
       "      <td>7.0</td>\n",
       "      <td>2.0</td>\n",
       "      <td>2.0</td>\n",
       "      <td>55.0</td>\n",
       "      <td>1.0</td>\n",
       "    </tr>\n",
       "  </tbody>\n",
       "</table>\n",
       "</div>"
      ],
      "text/plain": [
       "  cntry  idno  year  tvtot  ppltrst  pplfair  pplhlp  happy  sclmeet  sclact  \\\n",
       "0    CH   5.0     6    3.0      3.0     10.0     5.0    8.0      5.0     4.0   \n",
       "1    CH  25.0     6    6.0      5.0      7.0     5.0    9.0      3.0     2.0   \n",
       "2    CH  26.0     6    1.0      8.0      8.0     8.0    7.0      6.0     3.0   \n",
       "3    CH  28.0     6    4.0      6.0      6.0     7.0   10.0      6.0     2.0   \n",
       "4    CH  29.0     6    5.0      6.0      7.0     5.0    8.0      7.0     2.0   \n",
       "\n",
       "   gndr  agea  partner  \n",
       "0   2.0  60.0      1.0  \n",
       "1   2.0  59.0      1.0  \n",
       "2   1.0  24.0      2.0  \n",
       "3   2.0  64.0      1.0  \n",
       "4   2.0  55.0      1.0  "
      ]
     },
     "execution_count": 15,
     "metadata": {},
     "output_type": "execute_result"
    }
   ],
   "source": [
    "df.head()"
   ]
  },
  {
   "cell_type": "code",
   "execution_count": 46,
   "metadata": {},
   "outputs": [
    {
     "data": {
      "image/png": "[encoded data removed]",
      "text/plain": [
       "<Figure size 432x216 with 2 Axes>"
      ]
     },
     "metadata": {},
     "output_type": "display_data"
    },
    {
     "data": {
      "image/png": "[encoded data removed]",
      "text/plain": [
       "<Figure size 432x216 with 2 Axes>"
      ]
     },
     "metadata": {},
     "output_type": "display_data"
    }
   ],
   "source": [
    "male = df['tvtot'][(df['gndr'] == 1.0) & (df['year'] == 6)]\n",
    "female = df['tvtot'][(df['gndr'] == 2.0) & (df['year'] == 6)]\n",
    "\n",
    "fig, axs = plt.subplots(1, 2, figsize=(6, 3))\n",
    "\n",
    "axs[0].hist(male.dropna())\n",
    "axs[1].hist(female.dropna())\n",
    "\n",
    "fig.text(0.5, 0, '2012 TV Total')\n",
    "axs[0].set_title('Male')\n",
    "axs[1].set_title('Female')\n",
    "    \n",
    "plt.tight_layout()\n",
    "plt.show()\n",
    "\n",
    "\n",
    "male = df['tvtot'][(df['gndr'] == 1.0) & (df['year'] == 7)]\n",
    "female = df['tvtot'][(df['gndr'] == 2.0) & (df['year'] == 7)]\n",
    "\n",
    "fig, axs = plt.subplots(1, 2, figsize=(6, 3))\n",
    "\n",
    "axs[0].hist(male.dropna())\n",
    "axs[1].hist(female.dropna())\n",
    "\n",
    "fig.text(0.5, 0, '2014 TV Total')\n",
    "axs[0].set_title('Male')\n",
    "axs[1].set_title('Female')\n",
    "    \n",
    "plt.tight_layout()\n",
    "plt.show()"
   ]
  },
  {
   "cell_type": "code",
   "execution_count": 17,
   "metadata": {},
   "outputs": [
    {
     "name": "stdout",
     "output_type": "stream",
     "text": [
      "Male mean: 3.90\n",
      "Female mean: 3.94\n",
      "Ttest_indResult(statistic=-0.6899928109209502, pvalue=0.49023604027095813)\n"
     ]
    }
   ],
   "source": [
    "print('Male mean: {0:.2f}'.format(male.mean()))\n",
    "print('Female mean: {0:.2f}'.format(female.mean()))  \n",
    "print(stats.ttest_ind(male, \n",
    "                    female,\n",
    "                    nan_policy='omit'\n",
    "                    ))"
   ]
  },
  {
   "cell_type": "markdown",
   "metadata": {},
   "source": [
    "** tvtot - TV watching, total time on average weekday**\n",
    "\n",
    "Histogram from 2012 to 2014 with gender and tvtot. The histograms are very similar for both male and female for both years\n",
    "\n",
    "The p-value shows no significant suggesting or meaningful difference in the means. "
   ]
  },
  {
   "cell_type": "markdown",
   "metadata": {},
   "source": [
    "## Question 4: Who was more likely to believe people were fair in 2012, people living with a partner or people living alone?"
   ]
  },
  {
   "cell_type": "code",
   "execution_count": 18,
   "metadata": {},
   "outputs": [
    {
     "data": {
      "text/html": [
       "<div>\n",
       "<style scoped>\n",
       "    .dataframe tbody tr th:only-of-type {\n",
       "        vertical-align: middle;\n",
       "    }\n",
       "\n",
       "    .dataframe tbody tr th {\n",
       "        vertical-align: top;\n",
       "    }\n",
       "\n",
       "    .dataframe thead th {\n",
       "        text-align: right;\n",
       "    }\n",
       "</style>\n",
       "<table border=\"1\" class=\"dataframe\">\n",
       "  <thead>\n",
       "    <tr style=\"text-align: right;\">\n",
       "      <th></th>\n",
       "      <th>cntry</th>\n",
       "      <th>idno</th>\n",
       "      <th>year</th>\n",
       "      <th>tvtot</th>\n",
       "      <th>ppltrst</th>\n",
       "      <th>pplfair</th>\n",
       "      <th>pplhlp</th>\n",
       "      <th>happy</th>\n",
       "      <th>sclmeet</th>\n",
       "      <th>sclact</th>\n",
       "      <th>gndr</th>\n",
       "      <th>agea</th>\n",
       "      <th>partner</th>\n",
       "    </tr>\n",
       "  </thead>\n",
       "  <tbody>\n",
       "    <tr>\n",
       "      <th>0</th>\n",
       "      <td>CH</td>\n",
       "      <td>5.0</td>\n",
       "      <td>6</td>\n",
       "      <td>3.0</td>\n",
       "      <td>3.0</td>\n",
       "      <td>10.0</td>\n",
       "      <td>5.0</td>\n",
       "      <td>8.0</td>\n",
       "      <td>5.0</td>\n",
       "      <td>4.0</td>\n",
       "      <td>2.0</td>\n",
       "      <td>60.0</td>\n",
       "      <td>1.0</td>\n",
       "    </tr>\n",
       "    <tr>\n",
       "      <th>1</th>\n",
       "      <td>CH</td>\n",
       "      <td>25.0</td>\n",
       "      <td>6</td>\n",
       "      <td>6.0</td>\n",
       "      <td>5.0</td>\n",
       "      <td>7.0</td>\n",
       "      <td>5.0</td>\n",
       "      <td>9.0</td>\n",
       "      <td>3.0</td>\n",
       "      <td>2.0</td>\n",
       "      <td>2.0</td>\n",
       "      <td>59.0</td>\n",
       "      <td>1.0</td>\n",
       "    </tr>\n",
       "    <tr>\n",
       "      <th>2</th>\n",
       "      <td>CH</td>\n",
       "      <td>26.0</td>\n",
       "      <td>6</td>\n",
       "      <td>1.0</td>\n",
       "      <td>8.0</td>\n",
       "      <td>8.0</td>\n",
       "      <td>8.0</td>\n",
       "      <td>7.0</td>\n",
       "      <td>6.0</td>\n",
       "      <td>3.0</td>\n",
       "      <td>1.0</td>\n",
       "      <td>24.0</td>\n",
       "      <td>2.0</td>\n",
       "    </tr>\n",
       "  </tbody>\n",
       "</table>\n",
       "</div>"
      ],
      "text/plain": [
       "  cntry  idno  year  tvtot  ppltrst  pplfair  pplhlp  happy  sclmeet  sclact  \\\n",
       "0    CH   5.0     6    3.0      3.0     10.0     5.0    8.0      5.0     4.0   \n",
       "1    CH  25.0     6    6.0      5.0      7.0     5.0    9.0      3.0     2.0   \n",
       "2    CH  26.0     6    1.0      8.0      8.0     8.0    7.0      6.0     3.0   \n",
       "\n",
       "   gndr  agea  partner  \n",
       "0   2.0  60.0      1.0  \n",
       "1   2.0  59.0      1.0  \n",
       "2   1.0  24.0      2.0  "
      ]
     },
     "execution_count": 18,
     "metadata": {},
     "output_type": "execute_result"
    }
   ],
   "source": [
    "df.head(3)"
   ]
  },
  {
   "cell_type": "code",
   "execution_count": 47,
   "metadata": {},
   "outputs": [
    {
     "data": {
      "image/png": "[encoded data removed]",
      "text/plain": [
       "<Figure size 432x216 with 2 Axes>"
      ]
     },
     "metadata": {},
     "output_type": "display_data"
    },
    {
     "data": {
      "image/png": "[encoded data removed]",
      "text/plain": [
       "<Figure size 432x216 with 2 Axes>"
      ]
     },
     "metadata": {},
     "output_type": "display_data"
    }
   ],
   "source": [
    "partner = df['pplfair'][(df['partner'] == 1.0) & (df['year'] == 6)]\n",
    "alone = df['pplfair'][(df['partner'] == 2.0) & (df['year'] == 6)]\n",
    "\n",
    "fig, axs = plt.subplots(1, 2, figsize=(6, 3))\n",
    "\n",
    "axs[0].hist(partner.dropna())\n",
    "axs[1].hist(alone.dropna())\n",
    "\n",
    "fig.text(0.5, 0, '2012 Fairness')\n",
    "axs[0].set_title('Lives with Partner')\n",
    "axs[1].set_title('Lives Alone')\n",
    "    \n",
    "plt.tight_layout()\n",
    "plt.show()\n",
    "\n",
    "\n",
    "partner = df['pplfair'][(df['partner'] == 1.0) & (df['year'] == 7)]\n",
    "alone = df['pplfair'][(df['partner'] == 2.0) & (df['year'] == 7)]\n",
    "\n",
    "fig, axs = plt.subplots(1, 2, figsize=(6, 3))\n",
    "\n",
    "axs[0].hist(partner.dropna())\n",
    "axs[1].hist(alone.dropna())\n",
    "\n",
    "fig.text(0.5, 0, '2014 Fairness')\n",
    "axs[0].set_title('Lives with Partner')\n",
    "axs[1].set_title('Lives Alone')\n",
    "    \n",
    "plt.tight_layout()\n",
    "plt.show()"
   ]
  },
  {
   "cell_type": "code",
   "execution_count": 20,
   "metadata": {},
   "outputs": [
    {
     "name": "stdout",
     "output_type": "stream",
     "text": [
      "Lives with partner mean: 6.08\n",
      "Lives alone mean: 5.86\n",
      "Ttest_indResult(statistic=3.3201033970362084, pvalue=0.0009073952609876207)\n"
     ]
    }
   ],
   "source": [
    "print('Lives with partner mean: {0:.2f}'.format(partner.mean()))\n",
    "print('Lives alone mean: {0:.2f}'.format(alone.mean()))  \n",
    "print(stats.ttest_ind(partner, \n",
    "                    alone,\n",
    "                    nan_policy='omit'\n",
    "                    ))"
   ]
  },
  {
   "cell_type": "markdown",
   "metadata": {},
   "source": [
    "** pplfair - Most people try to take advantage of you, or try to be fair**\n",
    "\n",
    "The histograms for 2012 and 2014 for pplfair trends are similar. \n",
    "\n",
    "**pvalue=0.0009073952609876207**\n",
    "\n",
    "A pvalue of 0.000907 is very significant, suggesting that the difference in the means is meaningful. \n",
    "\n",
    "\n"
   ]
  },
  {
   "cell_type": "markdown",
   "metadata": {},
   "source": [
    "## Question 5: Pick three or four of the countries in the sample and compare how often people met socially in 2014. Are there differences, and if so, which countries stand out?"
   ]
  },
  {
   "cell_type": "code",
   "execution_count": 21,
   "metadata": {},
   "outputs": [
    {
     "name": "stdout",
     "output_type": "stream",
     "text": [
      "['ES', 'NO', 'SE']\n"
     ]
    },
    {
     "data": {
      "text/html": [
       "<div>\n",
       "<style scoped>\n",
       "    .dataframe tbody tr th:only-of-type {\n",
       "        vertical-align: middle;\n",
       "    }\n",
       "\n",
       "    .dataframe tbody tr th {\n",
       "        vertical-align: top;\n",
       "    }\n",
       "\n",
       "    .dataframe thead th {\n",
       "        text-align: right;\n",
       "    }\n",
       "</style>\n",
       "<table border=\"1\" class=\"dataframe\">\n",
       "  <thead>\n",
       "    <tr style=\"text-align: right;\">\n",
       "      <th></th>\n",
       "      <th>cntry</th>\n",
       "      <th>idno</th>\n",
       "      <th>year</th>\n",
       "      <th>tvtot</th>\n",
       "      <th>ppltrst</th>\n",
       "      <th>pplfair</th>\n",
       "      <th>pplhlp</th>\n",
       "      <th>happy</th>\n",
       "      <th>sclmeet</th>\n",
       "      <th>sclact</th>\n",
       "      <th>gndr</th>\n",
       "      <th>agea</th>\n",
       "      <th>partner</th>\n",
       "    </tr>\n",
       "  </thead>\n",
       "  <tbody>\n",
       "    <tr>\n",
       "      <th>0</th>\n",
       "      <td>CH</td>\n",
       "      <td>5.0</td>\n",
       "      <td>6</td>\n",
       "      <td>3.0</td>\n",
       "      <td>3.0</td>\n",
       "      <td>10.0</td>\n",
       "      <td>5.0</td>\n",
       "      <td>8.0</td>\n",
       "      <td>5.0</td>\n",
       "      <td>4.0</td>\n",
       "      <td>2.0</td>\n",
       "      <td>60.0</td>\n",
       "      <td>1.0</td>\n",
       "    </tr>\n",
       "  </tbody>\n",
       "</table>\n",
       "</div>"
      ],
      "text/plain": [
       "  cntry  idno  year  tvtot  ppltrst  pplfair  pplhlp  happy  sclmeet  sclact  \\\n",
       "0    CH   5.0     6    3.0      3.0     10.0     5.0    8.0      5.0     4.0   \n",
       "\n",
       "   gndr  agea  partner  \n",
       "0   2.0  60.0      1.0  "
      ]
     },
     "execution_count": 21,
     "metadata": {},
     "output_type": "execute_result"
    }
   ],
   "source": [
    "social = countries[3:]\n",
    "print(social)\n",
    "df.head(1)"
   ]
  },
  {
   "cell_type": "code",
   "execution_count": 22,
   "metadata": {},
   "outputs": [],
   "source": [
    "ES_meet = df['sclmeet'][(df['cntry'] == 'ES') & (df['year'] == 7)].dropna()\n",
    "NO_meet = df['sclmeet'][(df['cntry'] == 'NO') & (df['year'] == 7)].dropna()\n",
    "SE_meet = df['sclmeet'][(df['cntry'] == 'SE') & (df['year'] == 7)].dropna()"
   ]
  },
  {
   "cell_type": "code",
   "execution_count": 49,
   "metadata": {},
   "outputs": [
    {
     "data": {
      "text/plain": [
       "6.0    272\n",
       "4.0    160\n",
       "7.0    136\n",
       "5.0     96\n",
       "3.0     40\n",
       "2.0     25\n",
       "1.0      2\n",
       "Name: sclmeet, dtype: int64"
      ]
     },
     "execution_count": 49,
     "metadata": {},
     "output_type": "execute_result"
    }
   ],
   "source": [
    "NO_meet.value_counts()"
   ]
  },
  {
   "cell_type": "code",
   "execution_count": 51,
   "metadata": {},
   "outputs": [
    {
     "data": {
      "text/plain": [
       "6.0    379\n",
       "5.0    265\n",
       "7.0    250\n",
       "4.0    173\n",
       "3.0     64\n",
       "2.0     57\n",
       "1.0     23\n",
       "Name: sclmeet, dtype: int64"
      ]
     },
     "execution_count": 51,
     "metadata": {},
     "output_type": "execute_result"
    }
   ],
   "source": [
    "ES_meet.value_counts()"
   ]
  },
  {
   "cell_type": "code",
   "execution_count": 52,
   "metadata": {},
   "outputs": [
    {
     "data": {
      "text/plain": [
       "6.0    298\n",
       "7.0    229\n",
       "4.0    176\n",
       "5.0    125\n",
       "3.0     47\n",
       "2.0     33\n",
       "Name: sclmeet, dtype: int64"
      ]
     },
     "execution_count": 52,
     "metadata": {},
     "output_type": "execute_result"
    }
   ],
   "source": [
    "SE_meet.value_counts()"
   ]
  },
  {
   "cell_type": "code",
   "execution_count": 23,
   "metadata": {},
   "outputs": [
    {
     "data": {
      "image/png": "[encoded data removed]",
      "text/plain": [
       "<Figure size 432x216 with 3 Axes>"
      ]
     },
     "metadata": {},
     "output_type": "display_data"
    }
   ],
   "source": [
    "fig, axs = plt.subplots(1, 3, figsize=(6, 3))\n",
    "\n",
    "axs[0].hist(ES_meet)\n",
    "axs[1].hist(NO_meet)\n",
    "axs[2].hist(SE_meet)\n",
    "\n",
    "fig.text(0.25, 1, '2014 Number of Social Meetups w/ Friends')\n",
    "axs[0].set_title('ES')\n",
    "axs[1].set_title('NO')\n",
    "axs[2].set_title('SE')\n",
    "    \n",
    "plt.tight_layout()\n",
    "plt.show()"
   ]
  },
  {
   "cell_type": "code",
   "execution_count": 24,
   "metadata": {},
   "outputs": [
    {
     "data": {
      "image/png": "[encoded data removed]",
      "text/plain": [
       "<Figure size 432x216 with 3 Axes>"
      ]
     },
     "metadata": {},
     "output_type": "display_data"
    }
   ],
   "source": [
    "fig, axs = plt.subplots(1, 3, figsize=(6, 3))\n",
    "\n",
    "axs[0].boxplot(ES_meet)\n",
    "axs[1].boxplot(NO_meet)\n",
    "axs[2].boxplot(SE_meet)\n",
    "\n",
    "fig.text(0.25, 1, '2014 Number of Social Meetups w/ Friends')\n",
    "axs[0].set_title('ES')\n",
    "axs[1].set_title('NO')\n",
    "axs[2].set_title('SE')\n",
    "    \n",
    "plt.tight_layout()\n",
    "plt.show()"
   ]
  },
  {
   "cell_type": "code",
   "execution_count": 25,
   "metadata": {},
   "outputs": [
    {
     "name": "stdout",
     "output_type": "stream",
     "text": [
      "F statistic: 3.726110434690217 \n",
      "p-value: 0.02420388186106648\n"
     ]
    }
   ],
   "source": [
    "F, p = stats.f_oneway(ES_meet, NO_meet, SE_meet)\n",
    "print('F statistic:', F, '\\np-value:', p)"
   ]
  },
  {
   "cell_type": "code",
   "execution_count": 26,
   "metadata": {},
   "outputs": [
    {
     "name": "stdout",
     "output_type": "stream",
     "text": [
      "ES: 5.2601156069364166 1211\n",
      "NO: 5.3023255813953485 731\n",
      "SE: 5.426211453744493 908\n",
      "\n",
      " Ttest_indResult(statistic=-0.632916395870007, pvalue=0.5268628350318294)\n",
      "Ttest_indResult(statistic=-2.649547268580078, pvalue=0.00811992279651295)\n",
      "Ttest_indResult(statistic=1.8305856428076237, pvalue=0.06734412432597783)\n"
     ]
    }
   ],
   "source": [
    "print('ES:', ES_meet.mean(), ES_meet.count())\n",
    "print('NO:', NO_meet.mean(), NO_meet.count())\n",
    "print('SE:', SE_meet.mean(), SE_meet.count())\n",
    "\n",
    "print('\\n', stats.ttest_ind(ES_meet, NO_meet))\n",
    "print(stats.ttest_ind(ES_meet, SE_meet))\n",
    "print(stats.ttest_ind(SE_meet, NO_meet))"
   ]
  },
  {
   "cell_type": "markdown",
   "metadata": {},
   "source": [
    "**How people met socially.**\n",
    "\n",
    "Sampled Spain, Norway, and Sweden. The assumption might be that Norway and Sweden would be more similar. \n",
    "\n",
    "In the histograms above contain 3-4 bins for each histogram, Spain has the highest mid distribution of all the histograms. And Spain also has the highest count frequence. \n",
    "\n",
    "The boxplots are not super meaningful. Only man different is the Sweden boxplot has a larger interquartile range. \n",
    "\n",
    "**F statistic: 3.726110434690217**\n",
    "**p-value: 0.02420388186106648**\n",
    "\n",
    "ES: 5.2601156069364166 1211\n",
    "NO: 5.3023255813953485 731\n",
    "SE: 5.426211453744493 908\n",
    "\n",
    "ES - Ttest_indResult(statistic=-0.632916395870007, pvalue=0.5268628350318294)\n",
    "NO - Ttest_indResult(statistic=-2.649547268580078, **pvalue=0.00811992279651295**)\n",
    "SE - Ttest_indResult(statistic=1.8305856428076237, pvalue=0.06734412432597783)\n",
    "\n",
    "\n",
    "Counts for Norway\n",
    "6.0    272\n",
    "4.0    160\n",
    "7.0    136\n",
    "5.0     96\n",
    "3.0     40\n",
    "2.0     25\n",
    "1.0      2\n",
    "\n",
    "This pvalue for Norway is a result of a sampling effect and how the data is unevenly distributed. The other countries Spain and Sweden have a more evenly distributed data with more samples. Appears as though the Norway data is overfitting. \n",
    "\n"
   ]
  },
  {
   "cell_type": "markdown",
   "metadata": {},
   "source": [
    "## Question 6: Pick three or four of the countries in the sample and compare how often people took part in social activities, relative to others their age, in 2014. Are there differences, and if so, which countries stand out?"
   ]
  },
  {
   "cell_type": "code",
   "execution_count": 27,
   "metadata": {},
   "outputs": [],
   "source": [
    "ES_act = df['sclact'][(df['cntry'] == 'ES') & (df['year'] == 7)].dropna()\n",
    "NO_act = df['sclact'][(df['cntry'] == 'NO') & (df['year'] == 7)].dropna()\n",
    "SE_act = df['sclact'][(df['cntry'] == 'SE') & (df['year'] == 7)].dropna()"
   ]
  },
  {
   "cell_type": "code",
   "execution_count": 53,
   "metadata": {},
   "outputs": [
    {
     "data": {
      "text/plain": [
       "3.0    514\n",
       "2.0    331\n",
       "1.0    164\n",
       "4.0    147\n",
       "5.0     29\n",
       "Name: sclact, dtype: int64"
      ]
     },
     "execution_count": 53,
     "metadata": {},
     "output_type": "execute_result"
    }
   ],
   "source": [
    "ES_act.value_counts()"
   ]
  },
  {
   "cell_type": "code",
   "execution_count": 54,
   "metadata": {},
   "outputs": [
    {
     "data": {
      "text/plain": [
       "3.0    385\n",
       "2.0    183\n",
       "4.0    106\n",
       "1.0     35\n",
       "5.0     22\n",
       "Name: sclact, dtype: int64"
      ]
     },
     "execution_count": 54,
     "metadata": {},
     "output_type": "execute_result"
    }
   ],
   "source": [
    "NO_act.value_counts()"
   ]
  },
  {
   "cell_type": "code",
   "execution_count": 55,
   "metadata": {},
   "outputs": [
    {
     "data": {
      "text/plain": [
       "3.0    443\n",
       "2.0    218\n",
       "4.0    169\n",
       "1.0     52\n",
       "5.0     22\n",
       "Name: sclact, dtype: int64"
      ]
     },
     "execution_count": 55,
     "metadata": {},
     "output_type": "execute_result"
    }
   ],
   "source": [
    "SE_act.value_counts()"
   ]
  },
  {
   "cell_type": "code",
   "execution_count": 28,
   "metadata": {},
   "outputs": [
    {
     "data": {
      "image/png": "[encoded data removed]",
      "text/plain": [
       "<Figure size 432x216 with 3 Axes>"
      ]
     },
     "metadata": {},
     "output_type": "display_data"
    }
   ],
   "source": [
    "fig, axs = plt.subplots(1, 3, figsize=(6, 3))\n",
    "\n",
    "axs[0].hist(ES_act)\n",
    "axs[1].hist(NO_act)\n",
    "axs[2].hist(SE_act)\n",
    "\n",
    "fig.text(0.1, 1, '2014 Number of Social Activities Relative to Others of the Same Age')\n",
    "axs[0].set_title('ES')\n",
    "axs[1].set_title('NO')\n",
    "axs[2].set_title('SE')\n",
    "    \n",
    "plt.tight_layout()\n",
    "plt.show()"
   ]
  },
  {
   "cell_type": "code",
   "execution_count": 29,
   "metadata": {},
   "outputs": [
    {
     "name": "stdout",
     "output_type": "stream",
     "text": [
      "F statistic: 27.753885475253163 \n",
      "p-value: 1.1583945951240228e-12\n"
     ]
    }
   ],
   "source": [
    "F, p = stats.f_oneway(ES_act, NO_act, SE_act)\n",
    "print('F statistic:', F, '\\np-value:', p)"
   ]
  },
  {
   "cell_type": "code",
   "execution_count": 30,
   "metadata": {},
   "outputs": [
    {
     "name": "stdout",
     "output_type": "stream",
     "text": [
      "ES: 2.6168776371308016 1185\n",
      "NO: 2.859097127222982 731\n",
      "SE: 2.879424778761062 904\n",
      "\n",
      " Ttest_indResult(statistic=-5.671149129663532, pvalue=1.6345881270312057e-08)\n",
      "Ttest_indResult(statistic=-6.500257345866597, pvalue=1.000080729987386e-10)\n",
      "Ttest_indResult(statistic=0.4823216270234106, pvalue=0.6296421272017451)\n"
     ]
    }
   ],
   "source": [
    "\n",
    "print('ES:', ES_act.mean(), ES_act.count())\n",
    "print('NO:', NO_act.mean(), NO_act.count())\n",
    "print('SE:', SE_act.mean(), SE_act.count())\n",
    "\n",
    "print('\\n', stats.ttest_ind(ES_act, NO_act))\n",
    "print(stats.ttest_ind(ES_act, SE_act))\n",
    "print(stats.ttest_ind(SE_act, NO_act))"
   ]
  },
  {
   "cell_type": "markdown",
   "metadata": {},
   "source": [
    "**sclact - Take part in social activities compared to others of same age.**\n",
    "\n",
    "Starting with the histograms, Spain has much higher count values the the other two countries. \n",
    "\n",
    "F statistic: 27.753885475253163 \n",
    "p-value: 1.1583945951240228e-12\n",
    "\n",
    "A negative t-value has solely to do with the direction of comparison of the two groups. If you subtract the larger percentage from the smaller, you’ll have a negative t-value. That has nothing to do with the absolute value of t or its associated p-value — a small absolute t will have a low p-value in either direction. And, if you just switch the order of subtraction, the t-value would be the same amount positive. https://www.quora.com/How-can-one-interpret-a-negative-t-value-in-a-student-test-p-value-is-very-low\n",
    "\n",
    "Ttest_indResult(statistic=-5.671149129663532, pvalue=1.6345881270312057e-08)\n",
    "Ttest_indResult(statistic=-6.500257345866597, pvalue=1.000080729987386e-10)\n",
    "Ttest_indResult(statistic=0.4823216270234106, pvalue=0.6296421272017451)\n",
    "\n"
   ]
  }
 ],
 "metadata": {
  "kernelspec": {
   "display_name": "Python 3",
   "language": "python",
   "name": "python3"
  },
  "language_info": {
   "codemirror_mode": {
    "name": "ipython",
    "version": 3
   },
   "file_extension": ".py",
   "mimetype": "text/x-python",
   "name": "python",
   "nbconvert_exporter": "python",
   "pygments_lexer": "ipython3",
   "version": "3.6.5"
  }
 },
 "nbformat": 4,
 "nbformat_minor": 2
}
